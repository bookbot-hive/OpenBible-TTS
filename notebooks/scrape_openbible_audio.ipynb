{
 "cells": [
  {
   "cell_type": "code",
   "execution_count": null,
   "metadata": {},
   "outputs": [],
   "source": [
    "!mkdir -P ../downloads/zips/\n",
    "!mkdir -P ../downloads/raw_audio/"
   ]
  },
  {
   "cell_type": "code",
   "execution_count": null,
   "metadata": {},
   "outputs": [],
   "source": [
    "import pandas as pd\n",
    "\n",
    "df = pd.read_csv(\"../data/openbible_swahili_urls.tsv\", sep=\"\\t\", names=[\"book\", \"url\"])"
   ]
  },
  {
   "cell_type": "code",
   "execution_count": null,
   "metadata": {},
   "outputs": [],
   "source": [
    "for url in df[\"url\"]:\n",
    "    !wget {url} -P ../downloads/zips/"
   ]
  },
  {
   "cell_type": "code",
   "execution_count": 2,
   "metadata": {},
   "outputs": [
    {
     "name": "stderr",
     "output_type": "stream",
     "text": [
      "/root/miniconda3/envs/vits2/lib/python3.10/site-packages/tqdm/auto.py:21: TqdmWarning: IProgress not found. Please update jupyter and ipywidgets. See https://ipywidgets.readthedocs.io/en/stable/user_install.html\n",
      "  from .autonotebook import tqdm as notebook_tqdm\n",
      "100%|██████████| 66/66 [00:00<00:00, 788672.55it/s]\n"
     ]
    }
   ],
   "source": [
    "from glob import glob\n",
    "from tqdm.auto import tqdm\n",
    "\n",
    "zips = sorted(glob(\"../downloads/zips/*\"))\n",
    "for z in tqdm(zips):\n",
    "    o = z.split(\"/\")[-1]\n",
    "    !mkdir ../downloads/raw_audio/{o}\n",
    "    !unzip -q {z} -d ../downloads/raw_audio/{o}"
   ]
  },
  {
   "cell_type": "code",
   "execution_count": 11,
   "metadata": {},
   "outputs": [
    {
     "name": "stderr",
     "output_type": "stream",
     "text": [
      "/tmp/ipykernel_9846/3452034609.py:19: TqdmWarning: Iterable length 1189 > 1000 but `chunksize` is not set. This may seriously degrade multiprocess performance. Set `chunksize=1` or more.\n",
      "  _ = process_map(convert_mp3_to_wav, raw_audios)\n",
      "  0%|          | 0/1189 [00:00<?, ?it/s]"
     ]
    },
    {
     "name": "stderr",
     "output_type": "stream",
     "text": [
      "100%|██████████| 1189/1189 [02:50<00:00,  6.97it/s]\n"
     ]
    }
   ],
   "source": [
    "from pydub import AudioSegment\n",
    "from pathlib import Path\n",
    "from tqdm.contrib.concurrent import process_map\n",
    "\n",
    "def convert_mp3_to_wav(mp3_path):\n",
    "    chapter = mp3_path.split(\"/\")[-1].strip(\".mp3\")\n",
    "    book = chapter.split(\"_\")[0]\n",
    "\n",
    "    output_path_16 = f\"../downloads/wavs_16/{book}/{chapter}.wav\"\n",
    "    Path(output_path_16).parent.mkdir(parents=True, exist_ok=True)\n",
    "    output_path_44 = f\"../downloads/wavs_44/{book}/{chapter}.wav\"\n",
    "    Path(output_path_44).parent.mkdir(parents=True, exist_ok=True)\n",
    "\n",
    "    audio = AudioSegment.from_mp3(mp3_path)\n",
    "    audio.export(output_path_16, format=\"wav\", parameters=[\"-ar\", \"16000\", \"-ac\", \"1\"])\n",
    "    audio.export(output_path_44, format=\"wav\", parameters=[\"-ar\", \"44100\", \"-ac\", \"1\"])\n",
    "\n",
    "raw_audios = sorted(glob(\"../downloads/raw_audio/*/*.mp3\"))\n",
    "_ = process_map(convert_mp3_to_wav, raw_audios)"
   ]
  },
  {
   "cell_type": "code",
   "execution_count": 1,
   "metadata": {},
   "outputs": [
    {
     "data": {
      "text/plain": [
       "['../downloads/release/USX_1/1CH.usx',\n",
       " '../downloads/release/USX_1/1CO.usx',\n",
       " '../downloads/release/USX_1/1JN.usx']"
      ]
     },
     "execution_count": 1,
     "metadata": {},
     "output_type": "execute_result"
    }
   ],
   "source": [
    "from glob import glob\n",
    "\n",
    "usxs = sorted(glob(\"../downloads/release/USX_1/*.usx\"))\n",
    "usxs[:3]"
   ]
  },
  {
   "cell_type": "code",
   "execution_count": 73,
   "metadata": {},
   "outputs": [],
   "source": [
    "import re\n",
    "\n",
    "def parse_usx(usx_path):\n",
    "    # with open(usx_path) as f:\n",
    "    #     lines = re.sub(r\"\\s+\", \" \", f.read())\n",
    "    lines = \"\"\"<verse number=\"6\" style=\"v\" sid=\"MRK 6:6\"/>Naye akashangazwa sana kwa jinsi wasivyokuwa na imani.</para>\n",
    "  <para style=\"s1\" vid=\"MRK 6:6\">Yesu Awatuma Wale Kumi Na Wawili</para>\n",
    "  <para style=\"r\" vid=\"MRK 6:6\">(<ref loc=\"MAT 10:5-15\">Mathayo 10:5-15</ref>; <ref loc=\"LUK 9:1-6\">Luka 9:1-6</ref>)</para>\n",
    "  <para style=\"p\" vid=\"MRK 6:6\">Kisha Yesu akawa anakwenda kutoka kijiji kimoja hadi kingine akifundisha. <verse eid=\"MRK 6:6\"/>\"\"\"\n",
    "    lines = re.sub(r\"\\s+\", \" \", f.read())\n",
    "\n",
    "    verse_matches = re.findall(r\"<verse.+?sid=\\\"(.+?)\\\"\\/>(.*?)<verse eid=\\\".+?\\\"\\/>\", lines)\n",
    "    if verse_matches:\n",
    "        for match in verse_matches:\n",
    "            vid = match[0]\n",
    "            verse_text = match[1]\n",
    "            for para_matches in re.findall(r\"(<\\/para>\\s+<para.+?vid=\\\".+?\\\">)\", verse_text):\n",
    "                verse_text = verse_text.replace(para_matches, \" \")\n",
    "            for note_matches in re.findall(r\"(<note.+?<\\/note>)\", verse_text):\n",
    "                verse_text = verse_text.replace(note_matches, \" \")\n",
    "            for char_matches in re.findall(r\"(<char.+?>(.+?)<\\/char>)\", verse_text):\n",
    "                verse_text = verse_text.replace(char_matches[0], char_matches[1])\n",
    "            for char_matches in re.findall(r\"(<char.+?>(.+?)<\\/char>)\", verse_text):\n",
    "                verse_text = verse_text.replace(char_matches[0], char_matches[1])\n",
    "            for cell_matches in re.findall(r\"(<cell.+?>(.+?)<\\/cell>)\", verse_text):\n",
    "                verse_text = verse_text.replace(cell_matches[0], cell_matches[1])\n",
    "            for cell_matches in re.findall(r\"(<cell.+?>)\", verse_text):\n",
    "                verse_text = verse_text.replace(cell_matches, \" \")\n",
    "            for row_matches in re.findall(r\"(<row.+?>)\", verse_text):\n",
    "                verse_text = verse_text.replace(row_matches, \" \")\n",
    "            # for para_matches in re.findall(r\"(<para style=\\\".\\\" vid=\\\".+?\\\">)\", verse_text):\n",
    "            #     verse_text = verse_text.replace(para_matches, \" \")\n",
    "            REMOVE_TAGS = [\"<optbreak/>\", \"</cell>\", \"</row>\", \"</table>\", \"<table>\", \"</para>\"]\n",
    "            for tag in REMOVE_TAGS:\n",
    "                verse_text = verse_text.replace(tag, \" \")\n",
    "            verse_text = re.sub(r\"\\s+\", \" \", verse_text).strip()\n",
    "            if \"<\" in verse_text:\n",
    "                print(usx_path)\n",
    "                print(vid, verse_text)\n",
    "            # print(vid, verse_text)"
   ]
  },
  {
   "cell_type": "code",
   "execution_count": 74,
   "metadata": {},
   "outputs": [
    {
     "ename": "ValueError",
     "evalue": "I/O operation on closed file.",
     "output_type": "error",
     "traceback": [
      "\u001b[0;31m---------------------------------------------------------------------------\u001b[0m",
      "\u001b[0;31mValueError\u001b[0m                                Traceback (most recent call last)",
      "Cell \u001b[0;32mIn[74], line 1\u001b[0m\n\u001b[0;32m----> 1\u001b[0m \u001b[43mparse_usx\u001b[49m\u001b[43m(\u001b[49m\u001b[38;5;28;43;01mNone\u001b[39;49;00m\u001b[43m)\u001b[49m\n",
      "Cell \u001b[0;32mIn[73], line 10\u001b[0m, in \u001b[0;36mparse_usx\u001b[0;34m(usx_path)\u001b[0m\n\u001b[1;32m      3\u001b[0m \u001b[38;5;28;01mdef\u001b[39;00m \u001b[38;5;21mparse_usx\u001b[39m(usx_path):\n\u001b[1;32m      4\u001b[0m     \u001b[38;5;66;03m# with open(usx_path) as f:\u001b[39;00m\n\u001b[1;32m      5\u001b[0m     \u001b[38;5;66;03m#     lines = re.sub(r\"\\s+\", \" \", f.read())\u001b[39;00m\n\u001b[1;32m      6\u001b[0m     lines \u001b[38;5;241m=\u001b[39m \u001b[38;5;124m\"\"\"\u001b[39m\u001b[38;5;124m<verse number=\u001b[39m\u001b[38;5;124m\"\u001b[39m\u001b[38;5;124m6\u001b[39m\u001b[38;5;124m\"\u001b[39m\u001b[38;5;124m style=\u001b[39m\u001b[38;5;124m\"\u001b[39m\u001b[38;5;124mv\u001b[39m\u001b[38;5;124m\"\u001b[39m\u001b[38;5;124m sid=\u001b[39m\u001b[38;5;124m\"\u001b[39m\u001b[38;5;124mMRK 6:6\u001b[39m\u001b[38;5;124m\"\u001b[39m\u001b[38;5;124m/>Naye akashangazwa sana kwa jinsi wasivyokuwa na imani.</para>\u001b[39m\n\u001b[1;32m      7\u001b[0m \u001b[38;5;124m  <para style=\u001b[39m\u001b[38;5;124m\"\u001b[39m\u001b[38;5;124ms1\u001b[39m\u001b[38;5;124m\"\u001b[39m\u001b[38;5;124m vid=\u001b[39m\u001b[38;5;124m\"\u001b[39m\u001b[38;5;124mMRK 6:6\u001b[39m\u001b[38;5;124m\"\u001b[39m\u001b[38;5;124m>Yesu Awatuma Wale Kumi Na Wawili</para>\u001b[39m\n\u001b[1;32m      8\u001b[0m \u001b[38;5;124m  <para style=\u001b[39m\u001b[38;5;124m\"\u001b[39m\u001b[38;5;124mr\u001b[39m\u001b[38;5;124m\"\u001b[39m\u001b[38;5;124m vid=\u001b[39m\u001b[38;5;124m\"\u001b[39m\u001b[38;5;124mMRK 6:6\u001b[39m\u001b[38;5;124m\"\u001b[39m\u001b[38;5;124m>(<ref loc=\u001b[39m\u001b[38;5;124m\"\u001b[39m\u001b[38;5;124mMAT 10:5-15\u001b[39m\u001b[38;5;124m\"\u001b[39m\u001b[38;5;124m>Mathayo 10:5-15</ref>; <ref loc=\u001b[39m\u001b[38;5;124m\"\u001b[39m\u001b[38;5;124mLUK 9:1-6\u001b[39m\u001b[38;5;124m\"\u001b[39m\u001b[38;5;124m>Luka 9:1-6</ref>)</para>\u001b[39m\n\u001b[1;32m      9\u001b[0m \u001b[38;5;124m  <para style=\u001b[39m\u001b[38;5;124m\"\u001b[39m\u001b[38;5;124mp\u001b[39m\u001b[38;5;124m\"\u001b[39m\u001b[38;5;124m vid=\u001b[39m\u001b[38;5;124m\"\u001b[39m\u001b[38;5;124mMRK 6:6\u001b[39m\u001b[38;5;124m\"\u001b[39m\u001b[38;5;124m>Kisha Yesu akawa anakwenda kutoka kijiji kimoja hadi kingine akifundisha. <verse eid=\u001b[39m\u001b[38;5;124m\"\u001b[39m\u001b[38;5;124mMRK 6:6\u001b[39m\u001b[38;5;124m\"\u001b[39m\u001b[38;5;124m/>\u001b[39m\u001b[38;5;124m\"\"\"\u001b[39m\n\u001b[0;32m---> 10\u001b[0m     lines \u001b[38;5;241m=\u001b[39m re\u001b[38;5;241m.\u001b[39msub(\u001b[38;5;124mr\u001b[39m\u001b[38;5;124m\"\u001b[39m\u001b[38;5;124m\\\u001b[39m\u001b[38;5;124ms+\u001b[39m\u001b[38;5;124m\"\u001b[39m, \u001b[38;5;124m\"\u001b[39m\u001b[38;5;124m \u001b[39m\u001b[38;5;124m\"\u001b[39m, \u001b[43mf\u001b[49m\u001b[38;5;241;43m.\u001b[39;49m\u001b[43mread\u001b[49m\u001b[43m(\u001b[49m\u001b[43m)\u001b[49m)\n\u001b[1;32m     12\u001b[0m     verse_matches \u001b[38;5;241m=\u001b[39m re\u001b[38;5;241m.\u001b[39mfindall(\u001b[38;5;124mr\u001b[39m\u001b[38;5;124m\"\u001b[39m\u001b[38;5;124m<verse.+?sid=\u001b[39m\u001b[38;5;130;01m\\\"\u001b[39;00m\u001b[38;5;124m(.+?)\u001b[39m\u001b[38;5;130;01m\\\"\u001b[39;00m\u001b[38;5;124m\\\u001b[39m\u001b[38;5;124m/>(.*?)<verse eid=\u001b[39m\u001b[38;5;130;01m\\\"\u001b[39;00m\u001b[38;5;124m.+?\u001b[39m\u001b[38;5;130;01m\\\"\u001b[39;00m\u001b[38;5;124m\\\u001b[39m\u001b[38;5;124m/>\u001b[39m\u001b[38;5;124m\"\u001b[39m, lines)\n\u001b[1;32m     13\u001b[0m     \u001b[38;5;28;01mif\u001b[39;00m verse_matches:\n",
      "\u001b[0;31mValueError\u001b[0m: I/O operation on closed file."
     ]
    }
   ],
   "source": [
    "parse_usx(None)"
   ]
  },
  {
   "cell_type": "code",
   "execution_count": 70,
   "metadata": {},
   "outputs": [
    {
     "name": "stdout",
     "output_type": "stream",
     "text": [
      "../downloads/release/USX_1/1CH.usx\n",
      "1CH 25:31 ya ishirini na nne ikamwangukia Romamti-Ezeri, wanawe na jamaa zake, 12. <chapter eid=\"1CH 25\"/> <chapter number=\"26\" style=\"c\" sid=\"1CH 26\"/> <para style=\"s1\" vid=\"1CH 25:31\">Mabawabu\n"
     ]
    },
    {
     "name": "stdout",
     "output_type": "stream",
     "text": [
      "../downloads/release/USX_1/EZR.usx\n",
      "EZR 1:10 mabakuli ya dhahabu yalikuwa 30 mabakuli ya fedha yanayofanana yalikuwa 410 vifaa vingine vilikuwa 1,000. <para style=\"b\" vid=\"EZR 1:10\">\n",
      "../downloads/release/USX_1/EZR.usx\n",
      "EZR 2:20 wazao wa Gibari 95 <para style=\"b\" vid=\"EZR 2:20\">\n",
      "../downloads/release/USX_1/EZR.usx\n",
      "EZR 2:35 wazao wa Senaa 3,630 <para style=\"b\" vid=\"EZR 2:35\">\n",
      "../downloads/release/USX_1/EZR.usx\n",
      "EZR 2:39 wazao wa Harimu 1,017 <para style=\"b\" vid=\"EZR 2:39\">\n",
      "../downloads/release/USX_1/EZR.usx\n",
      "EZR 2:40 Walawi: wazao wa Yeshua na Kadmieli (kupitia jamaa ya Hodavia) 74 <para style=\"b\" vid=\"EZR 2:40\">\n",
      "../downloads/release/USX_1/EZR.usx\n",
      "EZR 2:41 Waimbaji: wazao wa Asafu 128 <para style=\"b\" vid=\"EZR 2:41\">\n",
      "../downloads/release/USX_1/EZR.usx\n",
      "EZR 2:42 Mabawabu wa lango la Hekalu: wazao wa Shalumu, Ateri, Talmoni, Akubu, Hatita na Shobai 139 <para style=\"b\" vid=\"EZR 2:42\">\n",
      "../downloads/release/USX_1/EZR.usx\n",
      "EZR 2:58 Watumishi wa Hekalu wote na wazao wa watumishi wa Solomoni 392 <para style=\"b\" vid=\"EZR 2:58\">\n",
      "../downloads/release/USX_1/EZR.usx\n",
      "EZR 2:60 wazao wa Delaya, Tobia na Nekoda 652 <para style=\"b\" vid=\"EZR 2:60\">\n",
      "../downloads/release/USX_1/JHN.usx\n",
      "JHN 19:16 Ndipo Pilato akamkabidhi Yesu kwao ili wamsulubishe. Kusulubiwa Kwa Yesu (<ref loc=\"MAT 27:32-44\">Mathayo 27:32-44</ref>; <ref loc=\"MRK 15:21-32\">Marko 15:21-32</ref>; <ref loc=\"LUK 23:26-43\">Luka 23:26-43</ref>) Kwa hiyo askari wakamchukua Yesu.\n",
      "../downloads/release/USX_1/JOS.usx\n",
      "JOS 12:24 mfalme wa Tirsa mmoja <para style=\"m\" vid=\"JOS 12:24\">wafalme jumla yao ilikuwa thelathini na mmoja.\n",
      "../downloads/release/USX_1/MRK.usx\n",
      "MRK 6:6 Naye akashangazwa sana kwa jinsi wasivyokuwa na imani. Yesu Awatuma Wale Kumi Na Wawili (<ref loc=\"MAT 10:5-15\">Mathayo 10:5-15</ref>; <ref loc=\"LUK 9:1-6\">Luka 9:1-6</ref>) Kisha Yesu akawa anakwenda kutoka kijiji kimoja hadi kingine akifundisha.\n",
      "../downloads/release/USX_1/NEH.usx\n",
      "NEH 7:25 wazao wa Gibeoni 95 <para style=\"b\" vid=\"NEH 7:25\">\n",
      "../downloads/release/USX_1/NEH.usx\n",
      "NEH 7:38 wazao wa Senaa 3,930 <para style=\"b\" vid=\"NEH 7:38\">\n",
      "../downloads/release/USX_1/NEH.usx\n",
      "NEH 7:42 wazao wa Harimu 1,017 <para style=\"b\" vid=\"NEH 7:42\">\n",
      "../downloads/release/USX_1/NEH.usx\n",
      "NEH 7:43 Walawi: wazao wa Yeshua (kupitia Kadmieli kupitia jamaa ya Hodavia) 74 <para style=\"b\" vid=\"NEH 7:43\">\n",
      "../downloads/release/USX_1/NEH.usx\n",
      "NEH 7:44 Waimbaji: wazao wa Asafu 148 <para style=\"b\" vid=\"NEH 7:44\">\n",
      "../downloads/release/USX_1/NEH.usx\n",
      "NEH 7:45 Mabawabu wa malango: wazao wa Shalumu, Ateri, Talmoni, Akubu, Hatita na Shobai 138 <para style=\"b\" vid=\"NEH 7:45\">\n",
      "../downloads/release/USX_1/NEH.usx\n",
      "NEH 7:60 Watumishi wa Hekalu wote na wazao wa watumishi wa Solomoni 392 <para style=\"b\" vid=\"NEH 7:60\">\n",
      "../downloads/release/USX_1/NEH.usx\n",
      "NEH 7:62 wazao wa Delaya, Tobia na Nekoda 642 <para style=\"b\" vid=\"NEH 7:62\">\n"
     ]
    }
   ],
   "source": [
    "# for usx_path in usxs:\n",
    "#     parse_usx(usx_path)"
   ]
  },
  {
   "cell_type": "code",
   "execution_count": null,
   "metadata": {},
   "outputs": [],
   "source": []
  }
 ],
 "metadata": {
  "kernelspec": {
   "display_name": "vits2",
   "language": "python",
   "name": "python3"
  },
  "language_info": {
   "codemirror_mode": {
    "name": "ipython",
    "version": 3
   },
   "file_extension": ".py",
   "mimetype": "text/x-python",
   "name": "python",
   "nbconvert_exporter": "python",
   "pygments_lexer": "ipython3",
   "version": "3.10.13"
  }
 },
 "nbformat": 4,
 "nbformat_minor": 2
}
