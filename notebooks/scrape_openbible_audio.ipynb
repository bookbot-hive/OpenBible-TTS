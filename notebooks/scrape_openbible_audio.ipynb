{
 "cells": [
  {
   "cell_type": "code",
   "execution_count": null,
   "metadata": {},
   "outputs": [],
   "source": [
    "!mkdir -P ../downloads/zips/\n",
    "!mkdir -P ../downloads/raw_audio/"
   ]
  },
  {
   "cell_type": "code",
   "execution_count": null,
   "metadata": {},
   "outputs": [],
   "source": [
    "import pandas as pd\n",
    "\n",
    "df = pd.read_csv(\"../data/openbible_swahili_urls.tsv\", sep=\"\\t\", names=[\"book\", \"url\"])"
   ]
  },
  {
   "cell_type": "code",
   "execution_count": null,
   "metadata": {},
   "outputs": [],
   "source": [
    "for url in df[\"url\"]:\n",
    "    !wget {url} -P ../downloads/zips/"
   ]
  },
  {
   "cell_type": "code",
   "execution_count": 2,
   "metadata": {},
   "outputs": [
    {
     "name": "stderr",
     "output_type": "stream",
     "text": [
      "/root/miniconda3/envs/vits2/lib/python3.10/site-packages/tqdm/auto.py:21: TqdmWarning: IProgress not found. Please update jupyter and ipywidgets. See https://ipywidgets.readthedocs.io/en/stable/user_install.html\n",
      "  from .autonotebook import tqdm as notebook_tqdm\n",
      "100%|██████████| 66/66 [00:00<00:00, 788672.55it/s]\n"
     ]
    }
   ],
   "source": [
    "from glob import glob\n",
    "from tqdm.auto import tqdm\n",
    "\n",
    "zips = sorted(glob(\"../downloads/zips/*\"))\n",
    "for z in tqdm(zips):\n",
    "    o = z.split(\"/\")[-1]\n",
    "    !mkdir ../downloads/raw_audio/{o}\n",
    "    !unzip -q {z} -d ../downloads/raw_audio/{o}"
   ]
  },
  {
   "cell_type": "code",
   "execution_count": 11,
   "metadata": {},
   "outputs": [
    {
     "name": "stderr",
     "output_type": "stream",
     "text": [
      "/tmp/ipykernel_9846/3452034609.py:19: TqdmWarning: Iterable length 1189 > 1000 but `chunksize` is not set. This may seriously degrade multiprocess performance. Set `chunksize=1` or more.\n",
      "  _ = process_map(convert_mp3_to_wav, raw_audios)\n",
      "  0%|          | 0/1189 [00:00<?, ?it/s]"
     ]
    },
    {
     "name": "stderr",
     "output_type": "stream",
     "text": [
      "100%|██████████| 1189/1189 [02:50<00:00,  6.97it/s]\n"
     ]
    }
   ],
   "source": [
    "from pydub import AudioSegment\n",
    "from pathlib import Path\n",
    "from tqdm.contrib.concurrent import process_map\n",
    "\n",
    "def convert_mp3_to_wav(mp3_path):\n",
    "    chapter = mp3_path.split(\"/\")[-1].strip(\".mp3\")\n",
    "    book = chapter.split(\"_\")[0]\n",
    "\n",
    "    output_path_16 = f\"../downloads/wavs_16/{book}/{chapter}.wav\"\n",
    "    Path(output_path_16).parent.mkdir(parents=True, exist_ok=True)\n",
    "    output_path_44 = f\"../downloads/wavs_44/{book}/{chapter}.wav\"\n",
    "    Path(output_path_44).parent.mkdir(parents=True, exist_ok=True)\n",
    "\n",
    "    audio = AudioSegment.from_mp3(mp3_path)\n",
    "    audio.export(output_path_16, format=\"wav\", parameters=[\"-ar\", \"16000\", \"-ac\", \"1\"])\n",
    "    audio.export(output_path_44, format=\"wav\", parameters=[\"-ar\", \"44100\", \"-ac\", \"1\"])\n",
    "\n",
    "raw_audios = sorted(glob(\"../downloads/raw_audio/*/*.mp3\"))\n",
    "_ = process_map(convert_mp3_to_wav, raw_audios)"
   ]
  },
  {
   "cell_type": "code",
   "execution_count": 1,
   "metadata": {},
   "outputs": [],
   "source": [
    "from glob import glob\n",
    "\n",
    "usxs = sorted(glob(\"../downloads/release/USX_1/*.usx\"))"
   ]
  },
  {
   "cell_type": "code",
   "execution_count": 2,
   "metadata": {},
   "outputs": [],
   "source": [
    "import re\n",
    "\n",
    "def parse_usx(usx_path):\n",
    "    verses = []\n",
    "    with open(usx_path) as f:\n",
    "        # remove newlines since verses can be multi-line\n",
    "        lines = re.sub(r\"\\s+\", \" \", f.read())\n",
    "\n",
    "    # verse follow this format: <verse sid=\"XX:YY\">VERSE<verse eid=\"XX:YY\">\n",
    "    verse_matches = re.findall(r\"<verse.+?sid=\\\"(.+?)\\\"\\/>(.*?)<verse eid=\\\".+?\\\"\\/>\", lines)\n",
    "    if verse_matches:\n",
    "        for match in verse_matches:\n",
    "            vid = match[0]\n",
    "            verse_text = match[1]\n",
    "            # remove notes\n",
    "            for note_matches in re.findall(r\"(<note.+?<\\/note>)\", verse_text):\n",
    "                verse_text = verse_text.replace(note_matches, \" \")\n",
    "            # uppercase names of God\n",
    "            for char_matches in re.findall(r\"<char style=\\\"nd\\\">(.+?)<\\/char>\", verse_text):\n",
    "                verse_text = verse_text.replace(char_matches, char_matches.upper())\n",
    "            # remove char tags, keep content\n",
    "            for char_matches in re.findall(r\"(<char.+?>(.+?)<\\/char>)\", verse_text):\n",
    "                verse_text = verse_text.replace(char_matches[0], char_matches[1])\n",
    "            # again, for nested char tags\n",
    "            for char_matches in re.findall(r\"(<char.+?>(.+?)<\\/char>)\", verse_text):\n",
    "                verse_text = verse_text.replace(char_matches[0], char_matches[1])\n",
    "            # remove cell tags, keep content\n",
    "            for cell_matches in re.findall(r\"(<cell.+?>(.+?)<\\/cell>)\", verse_text):\n",
    "                verse_text = verse_text.replace(cell_matches[0], cell_matches[1])\n",
    "            # remove cell, row, and ref tags\n",
    "            for cell_matches in re.findall(r\"(<cell.+?>)\", verse_text):\n",
    "                verse_text = verse_text.replace(cell_matches, \" \")\n",
    "            for row_matches in re.findall(r\"(<row.+?>)\", verse_text):\n",
    "                verse_text = verse_text.replace(row_matches, \" \")\n",
    "            for ref_matchs in re.findall(r\"(\\(<ref.+?<\\/ref>\\))\", verse_text):\n",
    "                verse_text = verse_text.replace(ref_matchs, \" \")\n",
    "            # remove para tags\n",
    "            for para_matches in re.findall(r\"(<para style=\\\"((li.|b|m|pi.|q|p|q.+?|p.+?|mi|s1|sp|r))\\\" vid=\\\".+?\\\"(>|/>))\", verse_text):\n",
    "                verse_text = verse_text.replace(para_matches[0], \" \")\n",
    "            # remove leftover tags\n",
    "            REMOVE_TAGS = [\"<optbreak/>\", \"</cell>\", \"</row>\", \"</table>\", \"<table>\", \"</para>\"]\n",
    "            for tag in REMOVE_TAGS:\n",
    "                verse_text = verse_text.replace(tag, \" \")\n",
    "\n",
    "            # NOTE: special case for 1CH 25:31 Swahili\n",
    "            for chapter_matches in re.findall(r\"(<chapter eid=\\\".+?\\\"/>)\", verse_text):\n",
    "                verse_text = verse_text.replace(chapter_matches, \" \")\n",
    "            verse_text = verse_text.split('<chapter number=\"26\" style=\"c\" sid=\"1CH 26\"/>')[0]\n",
    "\n",
    "            verse_text = re.sub(r\"\\s+\", \" \", verse_text).strip()\n",
    "            verses.append({\"verseNumber\": vid, \"verseText\": verse_text})\n",
    "\n",
    "    return verses"
   ]
  },
  {
   "cell_type": "code",
   "execution_count": 3,
   "metadata": {},
   "outputs": [],
   "source": [
    "books = [parse_usx(usx_path) for usx_path in usxs]"
   ]
  },
  {
   "cell_type": "code",
   "execution_count": 4,
   "metadata": {},
   "outputs": [],
   "source": [
    "from pathlib import Path\n",
    "import json\n",
    "\n",
    "for name, book in zip(usxs, books):\n",
    "    name = name.split(\"/\")[-1].replace(\".usx\", \"\")\n",
    "    output_path = f\"../data/openbible_swahili/{name}.json\"\n",
    "    Path(output_path).parent.mkdir(parents=True, exist_ok=True)\n",
    "    with open(output_path, \"w\") as f:\n",
    "        json.dump(book, f, indent=2)"
   ]
  },
  {
   "cell_type": "code",
   "execution_count": null,
   "metadata": {},
   "outputs": [],
   "source": []
  }
 ],
 "metadata": {
  "kernelspec": {
   "display_name": "vits2",
   "language": "python",
   "name": "python3"
  },
  "language_info": {
   "codemirror_mode": {
    "name": "ipython",
    "version": 3
   },
   "file_extension": ".py",
   "mimetype": "text/x-python",
   "name": "python",
   "nbconvert_exporter": "python",
   "pygments_lexer": "ipython3",
   "version": "3.9.12"
  }
 },
 "nbformat": 4,
 "nbformat_minor": 2
}
